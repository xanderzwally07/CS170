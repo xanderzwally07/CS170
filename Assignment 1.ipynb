{
 "cells": [
  {
   "cell_type": "markdown",
   "id": "724b27ad-cf81-46cb-9842-128b9ad29207",
   "metadata": {},
   "source": [
    "# My First Python Coding Assignment"
   ]
  },
  {
   "cell_type": "code",
   "execution_count": 5,
   "id": "3ccdf43f-fcdb-4772-95e3-e17beea997a1",
   "metadata": {},
   "outputs": [
    {
     "name": "stdout",
     "output_type": "stream",
     "text": [
      "How to declare variables and work on it in Python:\n",
      "15\n"
     ]
    }
   ],
   "source": [
    "print('How to declare variables and work on it in Python:')\n",
    "x=10\n",
    "y=5\n",
    "z=x+y\n",
    "print(z)"
   ]
  },
  {
   "cell_type": "code",
   "execution_count": null,
   "id": "32072d78-0605-4bfb-984a-e686e249492b",
   "metadata": {},
   "outputs": [],
   "source": []
  }
 ],
 "metadata": {
  "kernelspec": {
   "display_name": "Python [conda env:base] *",
   "language": "python",
   "name": "conda-base-py"
  },
  "language_info": {
   "codemirror_mode": {
    "name": "ipython",
    "version": 3
   },
   "file_extension": ".py",
   "mimetype": "text/x-python",
   "name": "python",
   "nbconvert_exporter": "python",
   "pygments_lexer": "ipython3",
   "version": "3.13.5"
  }
 },
 "nbformat": 4,
 "nbformat_minor": 5
}
